{
 "cells": [
  {
   "cell_type": "code",
   "execution_count": null,
   "metadata": {},
   "outputs": [],
   "source": [
    "import sys\n",
    "\n",
    "sys.path.append(\"../\")\n",
    "from RAICAT.utils import (\n",
    "    compute_ipv6_percentage,\n",
    "    convert_three_letter_to_two_letter_code,\n",
    "    compute_date_range,\n",
    ")\n",
    "import pydash as pyd"
   ]
  },
  {
   "cell_type": "code",
   "execution_count": 12,
   "metadata": {},
   "outputs": [
    {
     "name": "stdout",
     "output_type": "stream",
     "text": [
      "Help on function compute_ipv6_percentage in module RAICAT.utils:\n",
      "\n",
      "compute_ipv6_percentage(country_code: str, start_date: str, finish_date: str) -> List[Dict[str, Union[float, str]]]\n",
      "    Computes the percentage of IPv6 addresses for a given country and date range.\n",
      "    \n",
      "    Args:\n",
      "        country_code (str): The country code for which to compute the percentage.\n",
      "        start_date (str): The start date of the date range.\n",
      "        finish_date (str): The end date of the date range.\n",
      "    \n",
      "    Returns:\n",
      "        List[Dict[str, Union[str, float]]]: A list of dictionaries containing the name of the date and the percentage of IPv6 addresses.\n",
      "\n"
     ]
    }
   ],
   "source": [
    "help(compute_ipv6_percentage)\n",
    "# documentation of compute_ipv6_percentage\n"
   ]
  },
  {
   "cell_type": "code",
   "execution_count": null,
   "metadata": {},
   "outputs": [],
   "source": [
    "selected_countries = [\"FRA\", \"IRL\", \"ITA\", \"CAN\", \"ISR\"]\n",
    "# select for which countries you want to compute the data\n",
    "start_date, end_date = \"2021-01-01\", \"2021-01-02\"\n",
    "\n",
    "\n",
    "# select time range for which you want to compute the data\n",
    "def compute_ipv6percentage_between_dates_for_country_list(\n",
    "    selected_countries, start_date, end_date\n",
    "):\n",
    "    date_range = compute_date_range(start_date, end_date)\n",
    "    # generate date range for which you want to compute the data\n",
    "    result_placeholder = [\n",
    "        {\"name\": date, **{country: 0 for country in selected_countries}}\n",
    "        for date in date_range\n",
    "    ]\n",
    "    # create placeholder for the result\n",
    "    countries_data = result_placeholder\n",
    "    for country in selected_countries:\n",
    "        for computed_result in compute_ipv6_percentage(\n",
    "            convert_three_letter_to_two_letter_code(country),\n",
    "            start_date,\n",
    "            end_date,\n",
    "        ):\n",
    "            relevant_item = pyd.find(\n",
    "                countries_data,\n",
    "                lambda item: item[\"name\"] == computed_result[\"name\"],\n",
    "            )\n",
    "            relevant_item[country] = computed_result[\"ip_v6\"]\n",
    "    return countries_data\n",
    "\n",
    "\n",
    "countries_data = compute_ipv6percentage_between_dates_for_country_list(\n",
    "    selected_countries, start_date, end_date\n",
    ")\n",
    "\n",
    "serialized_value = f\"ipv6_countries_data={countries_data}\""
   ]
  },
  {
   "cell_type": "code",
   "execution_count": null,
   "metadata": {},
   "outputs": [],
   "source": [
    "%store  serialized_value >ipv_6_dump_file.py\n",
    "# this is jupiter notebook magic, it will save the variable to a file\n",
    "\n",
    "import pathlib\n",
    "pathlib.Path(\"ipv_6_dump_file2.py\").write_text(serialized_value)\n",
    "# this is classic way to dump a variable to a file as a text"
   ]
  },
  {
   "cell_type": "code",
   "execution_count": null,
   "metadata": {},
   "outputs": [],
   "source": [
    "import matplotlib.pyplot as plt\n",
    "\n",
    "\n",
    "def plot_graph(data, countries):\n",
    "    # Get a sorted list of all unique countries in the data\n",
    "    # countries = sorted(list(set().union(*data)))\n",
    "    dates = [day[\"name\"] for day in data]\n",
    "    # Create a line graph for each country\n",
    "\n",
    "    for country in countries:\n",
    "        # Get the values for this country at each day\n",
    "        values = [day.get(country, None) for day in data]\n",
    "\n",
    "        # Plot the data\n",
    "        plt.plot(dates, values, label=country)\n",
    "\n",
    "    # Add labels and a legend\n",
    "    plt.xlabel(\"Day\")\n",
    "    plt.ylabel(\"Value\")\n",
    "    plt.legend()\n",
    "\n",
    "    # plt.xticks(ticks=range(0, len(data), 3), rotation=45, fontsize=6)\n",
    "    # ! uncoomment in case if x-axis is too crowded\n",
    "    plt.tight_layout()\n",
    "    # Display the plot\n",
    "    plt.show()\n",
    "\n",
    "\n",
    "plot_graph(countries_data, selected_countries)"
   ]
  }
 ],
 "metadata": {
  "kernelspec": {
   "display_name": "venv",
   "language": "python",
   "name": "python3"
  },
  "language_info": {
   "codemirror_mode": {
    "name": "ipython",
    "version": 3
   },
   "file_extension": ".py",
   "mimetype": "text/x-python",
   "name": "python",
   "nbconvert_exporter": "python",
   "pygments_lexer": "ipython3",
   "version": "3.11.4"
  },
  "orig_nbformat": 4
 },
 "nbformat": 4,
 "nbformat_minor": 2
}

{
 "cells": [
  {
   "cell_type": "code",
   "execution_count": 1,
   "metadata": {},
   "outputs": [],
   "source": [
    "import sys\n",
    "\n",
    "sys.path.append(\"../\")\n",
    "from RAICAT.utils import (\n",
    "    compute_ipv6_percentage,\n",
    "    convert_three_letter_to_two_letter_code,\n",
    "    compute_date_range,\n",
    ")\n",
    "import pydash as pyd"
   ]
  },
  {
   "cell_type": "code",
   "execution_count": 2,
   "metadata": {},
   "outputs": [
    {
     "name": "stdout",
     "output_type": "stream",
     "text": [
      "Help on function compute_ipv6_percentage in module RAICAT.utils:\n",
      "\n",
      "compute_ipv6_percentage(country_code: str, start_date: str, finish_date: str) -> List[Dict[str, Union[float, str]]]\n",
      "    Computes the percentage of IPv6 addresses for a given country and date range.\n",
      "    \n",
      "    Args:\n",
      "        country_code (str): The country code for which to compute the percentage.\n",
      "        start_date (str): The start date of the date range.\n",
      "        finish_date (str): The end date of the date range.\n",
      "    \n",
      "    Returns:\n",
      "        List[Dict[str, Union[str, float]]]: A list of dictionaries containing the name of the date and the percentage of IPv6 addresses.\n",
      "\n"
     ]
    }
   ],
   "source": [
    "help(compute_ipv6_percentage)\n",
    "# documentation of compute_ipv6_percentage\n"
   ]
  },
  {
   "cell_type": "code",
   "execution_count": 3,
   "metadata": {},
   "outputs": [],
   "source": [
    "selected_countries = [\"FRA\", \"IRL\", \"ITA\", \"CAN\", \"ISR\"]\n",
    "# select for which countries you want to compute the data\n",
    "start_date, end_date = \"2021-01-01\", \"2021-01-02\"\n",
    "\n",
    "\n",
    "# select time range for which you want to compute the data\n",
    "def compute_ipv6percentage_between_dates_for_country_list(\n",
    "    selected_countries, start_date, end_date\n",
    "):\n",
    "    date_range = compute_date_range(start_date, end_date)\n",
    "    # generate date range for which you want to compute the data\n",
    "    result_placeholder = [\n",
    "        {\"name\": date, **{country: 0 for country in selected_countries}}\n",
    "        for date in date_range\n",
    "    ]\n",
    "    # create placeholder for the result\n",
    "    countries_data = result_placeholder\n",
    "    for country in selected_countries:\n",
    "        for computed_result in compute_ipv6_percentage(\n",
    "            convert_three_letter_to_two_letter_code(country),\n",
    "            start_date,\n",
    "            end_date,\n",
    "        ):\n",
    "            relevant_item = pyd.find(\n",
    "                countries_data,\n",
    "                lambda item: item[\"name\"] == computed_result[\"name\"],\n",
    "            )\n",
    "            relevant_item[country] = computed_result[\"ip_v6\"]\n",
    "    return countries_data\n",
    "\n",
    "\n",
    "countries_data = compute_ipv6percentage_between_dates_for_country_list(\n",
    "    selected_countries, start_date, end_date\n",
    ")\n",
    "\n",
    "serialized_value = f\"ipv6_countries_data={countries_data}\""
   ]
  },
  {
   "cell_type": "code",
   "execution_count": null,
   "metadata": {},
   "outputs": [],
   "source": [
    "%store  serialized_value >ipv_6_dump_file.py\n",
    "# this is jupiter notebook magic, it will save the variable to a file\n",
    "\n",
    "import pathlib\n",
    "pathlib.Path(\"ipv_6_dump_file2.py\").write_text(serialized_value)\n",
    "# this is classic way to dump a variable to a file as a text"
   ]
  },
  {
   "cell_type": "code",
   "execution_count": 4,
   "metadata": {},
   "outputs": [
    {
     "ename": "ImportError",
     "evalue": "\n\nIMPORTANT: PLEASE READ THIS FOR ADVICE ON HOW TO SOLVE THIS ISSUE!\n\nImporting the numpy C-extensions failed. This error can happen for\nmany reasons, often due to issues with your setup or how NumPy was\ninstalled.\n\nWe have compiled some common reasons and troubleshooting tips at:\n\n    https://numpy.org/devdocs/user/troubleshooting-importerror.html\n\nPlease note and check the following:\n\n  * The Python version is: Python3.11 from \"/Users/maximyadoshlivyy/Documents/Projects/RAICAT/venv/bin/python\"\n  * The NumPy version is: \"1.25.2\"\n\nand make sure that they are the versions you expect.\nPlease carefully study the documentation linked above for further help.\n\nOriginal error was: No module named 'numpy.core._multiarray_umath'\n",
     "output_type": "error",
     "traceback": [
      "\u001b[0;31m---------------------------------------------------------------------------\u001b[0m",
      "\u001b[0;31mModuleNotFoundError\u001b[0m                       Traceback (most recent call last)",
      "File \u001b[0;32m~/Documents/Projects/RAICAT/venv/lib/python3.11/site-packages/numpy/core/__init__.py:23\u001b[0m\n\u001b[1;32m     22\u001b[0m \u001b[39mtry\u001b[39;00m:\n\u001b[0;32m---> 23\u001b[0m     \u001b[39mfrom\u001b[39;00m \u001b[39m.\u001b[39;00m \u001b[39mimport\u001b[39;00m multiarray\n\u001b[1;32m     24\u001b[0m \u001b[39mexcept\u001b[39;00m \u001b[39mImportError\u001b[39;00m \u001b[39mas\u001b[39;00m exc:\n",
      "File \u001b[0;32m~/Documents/Projects/RAICAT/venv/lib/python3.11/site-packages/numpy/core/multiarray.py:10\u001b[0m\n\u001b[1;32m      9\u001b[0m \u001b[39mimport\u001b[39;00m \u001b[39mfunctools\u001b[39;00m\n\u001b[0;32m---> 10\u001b[0m \u001b[39mfrom\u001b[39;00m \u001b[39m.\u001b[39;00m \u001b[39mimport\u001b[39;00m overrides\n\u001b[1;32m     11\u001b[0m \u001b[39mfrom\u001b[39;00m \u001b[39m.\u001b[39;00m \u001b[39mimport\u001b[39;00m _multiarray_umath\n",
      "File \u001b[0;32m~/Documents/Projects/RAICAT/venv/lib/python3.11/site-packages/numpy/core/overrides.py:8\u001b[0m\n\u001b[1;32m      7\u001b[0m \u001b[39mfrom\u001b[39;00m \u001b[39m.\u001b[39;00m\u001b[39m.\u001b[39;00m\u001b[39m_utils\u001b[39;00m\u001b[39m.\u001b[39;00m\u001b[39m_inspect\u001b[39;00m \u001b[39mimport\u001b[39;00m getargspec\n\u001b[0;32m----> 8\u001b[0m \u001b[39mfrom\u001b[39;00m \u001b[39mnumpy\u001b[39;00m\u001b[39m.\u001b[39;00m\u001b[39mcore\u001b[39;00m\u001b[39m.\u001b[39;00m\u001b[39m_multiarray_umath\u001b[39;00m \u001b[39mimport\u001b[39;00m (\n\u001b[1;32m      9\u001b[0m     add_docstring,  _get_implementing_args, _ArrayFunctionDispatcher)\n\u001b[1;32m     12\u001b[0m ARRAY_FUNCTIONS \u001b[39m=\u001b[39m \u001b[39mset\u001b[39m()\n",
      "\u001b[0;31mModuleNotFoundError\u001b[0m: No module named 'numpy.core._multiarray_umath'",
      "\nDuring handling of the above exception, another exception occurred:\n",
      "\u001b[0;31mImportError\u001b[0m                               Traceback (most recent call last)",
      "Cell \u001b[0;32mIn[4], line 1\u001b[0m\n\u001b[0;32m----> 1\u001b[0m \u001b[39mimport\u001b[39;00m \u001b[39mmatplotlib\u001b[39;00m\u001b[39m.\u001b[39;00m\u001b[39mpyplot\u001b[39;00m \u001b[39mas\u001b[39;00m \u001b[39mplt\u001b[39;00m\n\u001b[1;32m      4\u001b[0m \u001b[39mdef\u001b[39;00m \u001b[39mplot_graph\u001b[39m(data, countries):\n\u001b[1;32m      5\u001b[0m     \u001b[39m# Get a sorted list of all unique countries in the data\u001b[39;00m\n\u001b[1;32m      6\u001b[0m     \u001b[39m# countries = sorted(list(set().union(*data)))\u001b[39;00m\n\u001b[1;32m      7\u001b[0m     dates \u001b[39m=\u001b[39m [day[\u001b[39m\"\u001b[39m\u001b[39mname\u001b[39m\u001b[39m\"\u001b[39m] \u001b[39mfor\u001b[39;00m day \u001b[39min\u001b[39;00m data]\n",
      "File \u001b[0;32m~/Documents/Projects/RAICAT/venv/lib/python3.11/site-packages/matplotlib/__init__.py:124\u001b[0m\n\u001b[1;32m    121\u001b[0m \u001b[39mimport\u001b[39;00m \u001b[39mtempfile\u001b[39;00m\n\u001b[1;32m    122\u001b[0m \u001b[39mimport\u001b[39;00m \u001b[39mwarnings\u001b[39;00m\n\u001b[0;32m--> 124\u001b[0m \u001b[39mimport\u001b[39;00m \u001b[39mnumpy\u001b[39;00m\n\u001b[1;32m    125\u001b[0m \u001b[39mfrom\u001b[39;00m \u001b[39mpackaging\u001b[39;00m\u001b[39m.\u001b[39;00m\u001b[39mversion\u001b[39;00m \u001b[39mimport\u001b[39;00m parse \u001b[39mas\u001b[39;00m parse_version\n\u001b[1;32m    127\u001b[0m \u001b[39m# cbook must import matplotlib only within function\u001b[39;00m\n\u001b[1;32m    128\u001b[0m \u001b[39m# definitions, so it is safe to import from it here.\u001b[39;00m\n",
      "File \u001b[0;32m~/Documents/Projects/RAICAT/venv/lib/python3.11/site-packages/numpy/__init__.py:139\u001b[0m\n\u001b[1;32m    136\u001b[0m \u001b[39m# mapping of {name: (value, deprecation_msg)}\u001b[39;00m\n\u001b[1;32m    137\u001b[0m __deprecated_attrs__ \u001b[39m=\u001b[39m {}\n\u001b[0;32m--> 139\u001b[0m \u001b[39mfrom\u001b[39;00m \u001b[39m.\u001b[39;00m \u001b[39mimport\u001b[39;00m core\n\u001b[1;32m    140\u001b[0m \u001b[39mfrom\u001b[39;00m \u001b[39m.\u001b[39;00m\u001b[39mcore\u001b[39;00m \u001b[39mimport\u001b[39;00m \u001b[39m*\u001b[39m\n\u001b[1;32m    141\u001b[0m \u001b[39mfrom\u001b[39;00m \u001b[39m.\u001b[39;00m \u001b[39mimport\u001b[39;00m compat\n",
      "File \u001b[0;32m~/Documents/Projects/RAICAT/venv/lib/python3.11/site-packages/numpy/core/__init__.py:49\u001b[0m\n\u001b[1;32m     25\u001b[0m     \u001b[39mimport\u001b[39;00m \u001b[39msys\u001b[39;00m\n\u001b[1;32m     26\u001b[0m     msg \u001b[39m=\u001b[39m \u001b[39m\"\"\"\u001b[39m\n\u001b[1;32m     27\u001b[0m \n\u001b[1;32m     28\u001b[0m \u001b[39mIMPORTANT: PLEASE READ THIS FOR ADVICE ON HOW TO SOLVE THIS ISSUE!\u001b[39m\n\u001b[0;32m   (...)\u001b[0m\n\u001b[1;32m     47\u001b[0m \u001b[39m\"\"\"\u001b[39m \u001b[39m%\u001b[39m (sys\u001b[39m.\u001b[39mversion_info[\u001b[39m0\u001b[39m], sys\u001b[39m.\u001b[39mversion_info[\u001b[39m1\u001b[39m], sys\u001b[39m.\u001b[39mexecutable,\n\u001b[1;32m     48\u001b[0m         __version__, exc)\n\u001b[0;32m---> 49\u001b[0m     \u001b[39mraise\u001b[39;00m \u001b[39mImportError\u001b[39;00m(msg)\n\u001b[1;32m     50\u001b[0m \u001b[39mfinally\u001b[39;00m:\n\u001b[1;32m     51\u001b[0m     \u001b[39mfor\u001b[39;00m envkey \u001b[39min\u001b[39;00m env_added:\n",
      "\u001b[0;31mImportError\u001b[0m: \n\nIMPORTANT: PLEASE READ THIS FOR ADVICE ON HOW TO SOLVE THIS ISSUE!\n\nImporting the numpy C-extensions failed. This error can happen for\nmany reasons, often due to issues with your setup or how NumPy was\ninstalled.\n\nWe have compiled some common reasons and troubleshooting tips at:\n\n    https://numpy.org/devdocs/user/troubleshooting-importerror.html\n\nPlease note and check the following:\n\n  * The Python version is: Python3.11 from \"/Users/maximyadoshlivyy/Documents/Projects/RAICAT/venv/bin/python\"\n  * The NumPy version is: \"1.25.2\"\n\nand make sure that they are the versions you expect.\nPlease carefully study the documentation linked above for further help.\n\nOriginal error was: No module named 'numpy.core._multiarray_umath'\n"
     ]
    }
   ],
   "source": [
    "import matplotlib.pyplot as plt\n",
    "\n",
    "\n",
    "def plot_graph(data, countries):\n",
    "    # Get a sorted list of all unique countries in the data\n",
    "    # countries = sorted(list(set().union(*data)))\n",
    "    dates = [day[\"name\"] for day in data]\n",
    "    # Create a line graph for each country\n",
    "\n",
    "    for country in countries:\n",
    "        # Get the values for this country at each day\n",
    "        values = [day.get(country, None) for day in data]\n",
    "\n",
    "        # Plot the data\n",
    "        plt.plot(dates, values, label=country)\n",
    "\n",
    "    # Add labels and a legend\n",
    "    plt.xlabel(\"Day\")\n",
    "    plt.ylabel(\"Value\")\n",
    "    plt.legend()\n",
    "\n",
    "    # plt.xticks(ticks=range(0, len(data), 3), rotation=45, fontsize=6)\n",
    "    # ! uncoomment in case if x-axis is too crowded\n",
    "    plt.tight_layout()\n",
    "    # Display the plot\n",
    "    plt.show()\n",
    "\n",
    "\n",
    "plot_graph(countries_data, selected_countries)"
   ]
  }
 ],
 "metadata": {
  "kernelspec": {
   "display_name": "venv",
   "language": "python",
   "name": "python3"
  },
  "language_info": {
   "codemirror_mode": {
    "name": "ipython",
    "version": 3
   },
   "file_extension": ".py",
   "mimetype": "text/x-python",
   "name": "python",
   "nbconvert_exporter": "python",
   "pygments_lexer": "ipython3",
   "version": "3.11.4"
  },
  "orig_nbformat": 4
 },
 "nbformat": 4,
 "nbformat_minor": 2
}

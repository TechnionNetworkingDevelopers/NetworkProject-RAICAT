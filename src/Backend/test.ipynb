{
 "cells": [
  {
   "cell_type": "code",
   "execution_count": null,
   "metadata": {},
   "outputs": [],
   "source": [
    "from ripe.atlas.cousteau import AtlasRequest\n",
    "from pprint import pprint"
   ]
  },
  {
   "cell_type": "code",
   "execution_count": null,
   "metadata": {},
   "outputs": [],
   "source": [
    "request = AtlasRequest(**{\"url_path\": url_path})\n",
    "(is_success, response) = request.get(type=\"dns\",page=22)\n",
    "pprint(response[\"results\"][45])"
   ]
  },
  {
   "cell_type": "code",
   "execution_count": null,
   "metadata": {},
   "outputs": [],
   "source": [
    "url_path = '/api/v2/measurements/1009547/'\n",
    "request = AtlasRequest(**{\"url_path\": url_path})\n",
    "(is_success, response) = request.get(url_params={})\n",
    "\n",
    "from ripe.atlas.sagan import DnsResult\n",
    "result = DnsResult(response)\n",
    "# pprint(response)"
   ]
  },
  {
   "cell_type": "code",
   "execution_count": 13,
   "metadata": {},
   "outputs": [
    {
     "name": "stdout",
     "output_type": "stream",
     "text": [
      "Country: NL\n",
      "City: NL-BIT BIT BV, NL\n"
     ]
    }
   ],
   "source": [
    "from ipwhois import IPWhois\n",
    "obj = IPWhois('2001:7b8:206:1::60')\n",
    "results = obj.lookup_rdap()\n",
    "print('Country:', results['asn_country_code'])\n",
    "print('City:', results['asn_description'])\n",
    "\n",
    "\n"
   ]
  },
  {
   "cell_type": "code",
   "execution_count": 17,
   "metadata": {},
   "outputs": [],
   "source": [
    "from datetime import datetime\n",
    "from ripe.atlas.cousteau import AtlasRequest,AtlasResultsRequest\n",
    "from ripe.atlas.sagan import Result, DnsResult\n",
    "\n",
    "def check_dns_measurements(date):\n",
    "    timestamp = datetime.strptime(date, \"%Y-%m-%d\").timestamp()\n",
    "    filters = {\"type\": \"dns\", \"start_time__gte\": timestamp, \"start_time__lt\": timestamp+24*60*60}\n",
    "    url_path = \"/api/v2/measurements/\"\n",
    "    is_success, response = AtlasRequest(**{\"url_path\": url_path}).get(**filters) \n",
    "    for result in  response[\"results\"]:\n",
    "        print('Measurement ID:', result.get(\"id\"))\n",
    "        print('Start Time:', datetime.fromtimestamp(result.get(\"start_time\")))\n",
    "        print('Stop Time:', datetime.fromtimestamp(result.get(\"stop_time\")))\n",
    "        print('Results Link:', result.get(\"result\"))\n",
    "        print('----')\n",
    "        url_path = f\"/api/v2/measurements/{result.get('id')}/results/\"\n",
    "        is_success, results = AtlasRequest(**{\"url_path\": url_path}).get()\n",
    "        if is_success:\n",
    "            for res in results:\n",
    "                parsed_result = DnsResult(res)\n",
    "        #         # print('DNS Response Time:', parsed_result.response_time)\n",
    "        #         print('DNS Result:', parsed_result.result)\n",
    "        #         print('----')\n",
    "        # else:\n",
    "        #     print('Failed to get the results for the measurement with ID:', result.get(\"id\"))\n"
   ]
  },
  {
   "cell_type": "code",
   "execution_count": 18,
   "metadata": {},
   "outputs": [
    {
     "name": "stdout",
     "output_type": "stream",
     "text": [
      "Measurement ID: 41451482\n",
      "Start Time: 2022-06-01 01:02:21\n",
      "Stop Time: 2022-06-01 01:10:03\n",
      "Results Link: https://atlas.ripe.net/api/v2/measurements/41451482/results/\n",
      "----\n"
     ]
    }
   ],
   "source": [
    "date_to_check = datetime(2023, 6, 1).strptime # Replace with the desired date\n",
    "check_dns_measurements(\"2022-06-01\")"
   ]
  }
 ],
 "metadata": {
  "kernelspec": {
   "display_name": "venv",
   "language": "python",
   "name": "python3"
  },
  "language_info": {
   "codemirror_mode": {
    "name": "ipython",
    "version": 3
   },
   "file_extension": ".py",
   "mimetype": "text/x-python",
   "name": "python",
   "nbconvert_exporter": "python",
   "pygments_lexer": "ipython3",
   "version": "3.10.11"
  },
  "orig_nbformat": 4
 },
 "nbformat": 4,
 "nbformat_minor": 2
}

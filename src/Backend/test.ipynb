{
 "cells": [
  {
   "cell_type": "code",
   "execution_count": null,
   "metadata": {},
   "outputs": [],
   "source": [
    "import sys\n",
    "sys.path.append('../')\n",
    "from Backend.RAICAT.utils import check_dns_measurements,compute_average_by_country\n",
    "\n",
    "res=check_dns_measurements(\"2022-05-01\")\n"
   ]
  },
  {
   "cell_type": "code",
   "execution_count": 4,
   "metadata": {},
   "outputs": [
    {
     "name": "stdout",
     "output_type": "stream",
     "text": [
      "{'ALB': 31.782400000000003,\n",
      " 'AND': 21.443,\n",
      " 'ARE': 26.734,\n",
      " 'ARG': 92.34663725490198,\n",
      " 'ARM': 66.24,\n",
      " 'AUS': 36.16388055555555,\n",
      " 'AUT': 24.646471230158735,\n",
      " 'AZE': 76.688,\n",
      " 'BEL': 25.33087736318408,\n",
      " 'BGD': 53.399,\n",
      " 'BGR': 47.82113802083332,\n",
      " 'BIH': 25.56,\n",
      " 'BLM': 244.483,\n",
      " 'BLR': 41.388157894736835,\n",
      " 'BOL': 91.2305,\n",
      " 'BRA': 44.25674747474747,\n",
      " 'BRB': 50.868,\n",
      " 'BWA': 57.36,\n",
      " 'CAN': 38.961641393442626,\n",
      " 'CHE': 19.03115598290598,\n",
      " 'CHL': 98.24932870370372,\n",
      " 'CHN': 127.12836231884057,\n",
      " 'COL': 82.81433333333334,\n",
      " 'CZE': 19.25544666666666,\n",
      " 'DEU': 24.982163308144397,\n",
      " 'DJI': 79.119,\n",
      " 'DNK': 23.079567610062895,\n",
      " 'DOM': 27.296999999999997,\n",
      " 'ECU': 96.8995,\n",
      " 'ESP': 68.1416755319149,\n",
      " 'EST': 42.888371527777785,\n",
      " 'FIN': 42.80792592592593,\n",
      " 'FRA': 24.844370433789955,\n",
      " 'GBR': 23.258286802030455,\n",
      " 'GEO': 67.287,\n",
      " 'GHA': 182.47899999999998,\n",
      " 'GLP': 81.096,\n",
      " 'GRC': 44.19012765957447,\n",
      " 'HKG': 13.923440476190475,\n",
      " 'HRV': 23.024032608695656,\n",
      " 'HUN': 43.48086451612904,\n",
      " 'IDN': 72.13343055555556,\n",
      " 'IMN': 47.262,\n",
      " 'IND': 101.99913265306125,\n",
      " 'IRL': 19.674161375661374,\n",
      " 'IRN': 158.47064000000003,\n",
      " 'IRQ': 11.131,\n",
      " 'ISL': 98.092,\n",
      " 'ISR': 63.36144444444446,\n",
      " 'ITA': 29.337314536340855,\n",
      " 'JOR': 70.34700000000001,\n",
      " 'JPN': 49.15126666666665,\n",
      " 'KAZ': 94.318625,\n",
      " 'KOR': 66.31271666666667,\n",
      " 'KWT': 19.674,\n",
      " 'LBN': 28.2775,\n",
      " 'LIE': 13.51136666666667,\n",
      " 'LKA': 42.551,\n",
      " 'LTU': 31.429756944444446,\n",
      " 'LUX': 24.068857142857137,\n",
      " 'LVA': 54.53320555555556,\n",
      " 'MDA': 15.390666666666666,\n",
      " 'MDG': 257.131,\n",
      " 'MEX': 51.409015151515156,\n",
      " 'MLT': 31.809,\n",
      " 'MYS': 62.051470588235304,\n",
      " 'NAM': 42.194,\n",
      " 'NLD': 12.73082781456953,\n",
      " 'NOR': 50.04989186046513,\n",
      " 'NZL': 111.93546774193548,\n",
      " 'PER': 106.94745833333334,\n",
      " 'PHL': 72.53128571428572,\n",
      " 'POL': 21.748104377104383,\n",
      " 'PRT': 46.3295502136752,\n",
      " 'PYF': 99.079,\n",
      " 'REU': 72.6712,\n",
      " 'ROU': 36.789049621212115,\n",
      " 'RUS': 62.52573691460052,\n",
      " 'SAU': 79.07425,\n",
      " 'SGP': 67.07735,\n",
      " 'SRB': 35.888999999999996,\n",
      " 'SVK': 24.457107843137255,\n",
      " 'SVN': 21.696976666666668,\n",
      " 'SWE': 25.092354166666663,\n",
      " 'THA': 66.33515555555556,\n",
      " 'TTO': 50.828,\n",
      " 'TUN': 66.438,\n",
      " 'TUR': 48.66532608695652,\n",
      " 'TWN': 33.992,\n",
      " 'TZA': 78.371875,\n",
      " 'UKR': 52.09366120218581,\n",
      " 'URY': 39.921,\n",
      " 'USA': 42.29142289719629,\n",
      " 'UZB': 78.88,\n",
      " 'VEN': 89.43599999999999,\n",
      " 'VNM': 91.11080000000001,\n",
      " 'YEM': 221.837,\n",
      " 'ZAF': 88.57708080808082,\n",
      " 'ZMB': 21.629,\n",
      " 'ZWE': 18.315}\n"
     ]
    }
   ],
   "source": [
    "from pprint import pprint\n",
    "pprint(res)"
   ]
  },
  {
   "cell_type": "code",
   "execution_count": 6,
   "metadata": {},
   "outputs": [
    {
     "data": {
      "text/plain": [
       "11.131"
      ]
     },
     "execution_count": 6,
     "metadata": {},
     "output_type": "execute_result"
    }
   ],
   "source": [
    "min([value for key,value in res.items()])"
   ]
  },
  {
   "cell_type": "code",
   "execution_count": null,
   "metadata": {},
   "outputs": [],
   "source": [
    "\n",
    "from Backend.RAICAT.utils import compute_average_by_country\n",
    "res\n",
    "compute_average_by_country(res)"
   ]
  },
  {
   "cell_type": "code",
   "execution_count": null,
   "metadata": {},
   "outputs": [],
   "source": [
    "\n",
    "from pprint import pprint\n",
    "from ipwhois.experimental import bulk_lookup_rdap,get_bulk_asn_whois\n",
    "ip_list = ['74.125.225.229', '2001:4860:4860::8888', '62.239.237.1', '2a00:2381:ffff::1', '210.107.73.73',\n",
    "        #    '2001:240:10c:1::ca20:9d1d', '200.57.141.161', '2801:10:c000::', '196.11.240.215', '2001:43f8:7b0::', '133.1.2.5', '115.1.2.3'\n",
    "           ]\n",
    "# obj = IPWhois('[\"8.8.4.4\", \"1.1.1.1\", \"2c0f:fb50:4003::\"]')\n",
    "results= get_bulk_asn_whois(addresses=ip_list)\n",
    "# results, stats = bulk_lookup_rdap(addresses=ip_list)\n",
    "pprint(results)"
   ]
  }
 ],
 "metadata": {
  "kernelspec": {
   "display_name": "venv",
   "language": "python",
   "name": "python3"
  },
  "language_info": {
   "codemirror_mode": {
    "name": "ipython",
    "version": 3
   },
   "file_extension": ".py",
   "mimetype": "text/x-python",
   "name": "python",
   "nbconvert_exporter": "python",
   "pygments_lexer": "ipython3",
   "version": "3.10.12"
  },
  "orig_nbformat": 4
 },
 "nbformat": 4,
 "nbformat_minor": 2
}
